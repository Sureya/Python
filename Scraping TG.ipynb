{
 "cells": [
  {
   "cell_type": "code",
   "execution_count": 1,
   "metadata": {},
   "outputs": [],
   "source": [
    "import requests"
   ]
  },
  {
   "cell_type": "code",
   "execution_count": 2,
   "metadata": {},
   "outputs": [],
   "source": [
    "r = requests.get(\"http://tamilgun.work/categories/hd-movies/\")"
   ]
  },
  {
   "cell_type": "code",
   "execution_count": 4,
   "metadata": {},
   "outputs": [],
   "source": [
    "from bs4 import BeautifulSoup"
   ]
  },
  {
   "cell_type": "code",
   "execution_count": 8,
   "metadata": {},
   "outputs": [],
   "source": [
    "soup = BeautifulSoup(r.content, 'html.parser')"
   ]
  },
  {
   "cell_type": "code",
   "execution_count": 22,
   "metadata": {},
   "outputs": [],
   "source": [
    "sections = soup.findAll(\"article\", { \"class\" : \"article-meta-shown\" })"
   ]
  },
  {
   "cell_type": "code",
   "execution_count": 23,
   "metadata": {},
   "outputs": [
    {
     "data": {
      "text/plain": [
       "12"
      ]
     },
     "execution_count": 23,
     "metadata": {},
     "output_type": "execute_result"
    }
   ],
   "source": [
    "len(sections)"
   ]
  },
  {
   "cell_type": "code",
   "execution_count": 24,
   "metadata": {},
   "outputs": [],
   "source": [
    "sample = sections[1]"
   ]
  },
  {
   "cell_type": "code",
   "execution_count": null,
   "metadata": {
    "scrolled": false
   },
   "outputs": [],
   "source": []
  },
  {
   "cell_type": "code",
   "execution_count": 29,
   "metadata": {},
   "outputs": [],
   "source": [
    "h3 = sample.find('h3', {'class':'entry-title'})"
   ]
  },
  {
   "cell_type": "code",
   "execution_count": 30,
   "metadata": {},
   "outputs": [],
   "source": [
    "title = h3.getText()"
   ]
  },
  {
   "cell_type": "code",
   "execution_count": 31,
   "metadata": {},
   "outputs": [
    {
     "data": {
      "text/plain": [
       "'Ka..Ka..Ka..Aabathin Arikuri'"
      ]
     },
     "execution_count": 31,
     "metadata": {},
     "output_type": "execute_result"
    }
   ],
   "source": [
    "title"
   ]
  },
  {
   "cell_type": "code",
   "execution_count": 33,
   "metadata": {},
   "outputs": [
    {
     "data": {
      "text/plain": [
       "'37'"
      ]
     },
     "execution_count": 33,
     "metadata": {},
     "output_type": "execute_result"
    }
   ],
   "source": [
    "likes = sample.find('span', {'class': 'touchsize-likes-count'}).getText()"
   ]
  },
  {
   "cell_type": "code",
   "execution_count": null,
   "metadata": {},
   "outputs": [],
   "source": []
  },
  {
   "cell_type": "code",
   "execution_count": 35,
   "metadata": {},
   "outputs": [],
   "source": [
    "import requests\n",
    "from bs4 import BeautifulSoup\n",
    "\n",
    "r = requests.get(\"http://tamilgun.work/categories/hd-movies/\")\n",
    "soup = BeautifulSoup(r.content, 'html.parser')\n",
    "all_movies = soup.findAll(\"article\", { \"class\" : \"article-meta-shown\" })\n",
    "\n",
    "\n",
    "res = []\n",
    "\n",
    "for movie in all_movies:\n",
    "    name = movie.find('h3', {'class':'entry-title'}).getText()\n",
    "    likes = movie.find('span', {'class': 'touchsize-likes-count'}).getText()\n",
    "    res.append([name, likes])\n",
    "    "
   ]
  },
  {
   "cell_type": "code",
   "execution_count": null,
   "metadata": {},
   "outputs": [],
   "source": []
  },
  {
   "cell_type": "code",
   "execution_count": 36,
   "metadata": {},
   "outputs": [
    {
     "data": {
      "text/plain": [
       "[['Thupparivaalan HD', '1875'],\n",
       " ['Ka..Ka..Ka..Aabathin Arikuri', '37'],\n",
       " ['Magalir Mattum HD', '898'],\n",
       " ['Bayama Irukku HD', '506'],\n",
       " ['Pichuva Kaththi HD', '209'],\n",
       " ['Thappu Thanda HD', '170'],\n",
       " ['Vivegam HD', '7483'],\n",
       " ['Katha Nayagan HD', '812'],\n",
       " ['Puriyatha Puthir HD', '1803'],\n",
       " ['Spider-Man: Homecoming-HD', '955'],\n",
       " ['Mom HD', '710'],\n",
       " ['Naan Aanaiyittal HD', '543']]"
      ]
     },
     "execution_count": 36,
     "metadata": {},
     "output_type": "execute_result"
    }
   ],
   "source": [
    "res"
   ]
  },
  {
   "cell_type": "code",
   "execution_count": null,
   "metadata": {},
   "outputs": [],
   "source": []
  },
  {
   "cell_type": "code",
   "execution_count": 37,
   "metadata": {},
   "outputs": [],
   "source": [
    "url_template = \"http://tamilgun.work/categories/hd-movies/page/{page_num}/\""
   ]
  },
  {
   "cell_type": "code",
   "execution_count": 44,
   "metadata": {},
   "outputs": [],
   "source": [
    "all_res = []\n",
    "\n",
    "for page_number in range(1,11,1):\n",
    "    url = url_template.format(page_num=page_number)\n",
    "    r = requests.get(url)\n",
    "    soup = BeautifulSoup(r.content, 'html.parser')\n",
    "    all_movies = soup.findAll(\"article\", { \"class\" : \"article-meta-shown\" })\n",
    "    for movie in all_movies:\n",
    "        name = movie.find('h3', {'class':'entry-title'}).getText()\n",
    "        likes = movie.find('span', {'class': 'touchsize-likes-count'}).getText()\n",
    "        all_res.append([name, likes])\n",
    "    \n",
    "    \n"
   ]
  },
  {
   "cell_type": "code",
   "execution_count": null,
   "metadata": {},
   "outputs": [],
   "source": []
  },
  {
   "cell_type": "code",
   "execution_count": 46,
   "metadata": {
    "scrolled": true
   },
   "outputs": [
    {
     "data": {
      "text/plain": [
       "[['Thupparivaalan HD', '1875'],\n",
       " ['Ka..Ka..Ka..Aabathin Arikuri', '37'],\n",
       " ['Magalir Mattum HD', '898'],\n",
       " ['Bayama Irukku HD', '506'],\n",
       " ['Pichuva Kaththi HD', '209'],\n",
       " ['Thappu Thanda HD', '170'],\n",
       " ['Vivegam HD', '7483'],\n",
       " ['Katha Nayagan HD', '812'],\n",
       " ['Puriyatha Puthir HD', '1803'],\n",
       " ['Spider-Man: Homecoming-HD', '955'],\n",
       " ['Mom HD', '710'],\n",
       " ['Naan Aanaiyittal HD', '543'],\n",
       " ['Neruppu Da HD', '1147'],\n",
       " ['Kurangu Bommai HD', '1290'],\n",
       " ['Kadhal Kasakuthaiya HD', '286'],\n",
       " ['Oru Kidayin Karunai Manu HD', '646'],\n",
       " ['Podhuvaga Emmanasu Thangam HD', '1065'],\n",
       " ['Pannam Pathinonnum Seyum HD', '241'],\n",
       " ['Taramani HD', '1465'],\n",
       " ['VIP 2 Full Movie HD', '5019'],\n",
       " ['Kootathil Oruthan HD', '1832'],\n",
       " ['Sathura Adi-3500 HD', '365'],\n",
       " ['Vikram Vedha HD', '6261'],\n",
       " ['Nibunan HD', '2972'],\n",
       " ['Meesaya Murukku HD', '4057'],\n",
       " ['Gemini Ganeshanum Suruli Raajanum HD', '2437'],\n",
       " ['Thiri HD', '813'],\n",
       " ['Bairavaa HD', '21775'],\n",
       " ['Pandigai HD', '814'],\n",
       " ['7 Naatkal HD', '565'],\n",
       " ['Ivan Thanthiran HD', '1920'],\n",
       " ['Nagarvalam HD', '382'],\n",
       " ['Adhagappattathu Magajanangalay HD', '399'],\n",
       " ['Vanamagan HD', '3379'],\n",
       " ['Julieum 4 Perum HD', '174'],\n",
       " ['Sachin: A Billion Dreams HD', '410'],\n",
       " ['Brindavanam HD', '813'],\n",
       " ['Uru HD', '625'],\n",
       " ['Yaanum Theeyavan HD', '240'],\n",
       " ['Vilayattu Aarambam HD', '207'],\n",
       " ['Yevanavan HD', '195'],\n",
       " ['Anbanavan Asaradhavan Adangadhavan HD', '1547'],\n",
       " ['Maragadha Naanayam HD', '2096'],\n",
       " ['Sathriyan HD', '1561'],\n",
       " ['Rangoon HD', '1514'],\n",
       " ['Bongu HD', '957'],\n",
       " ['Sangili Bungili Kadhava Thora HD', '4347'],\n",
       " ['Tubelight HD', '408'],\n",
       " ['Kanavu Variyam HD', '748'],\n",
       " ['Radiopetti', '351'],\n",
       " ['Munnodi', '164'],\n",
       " ['Pulimurugan HD', '1139'],\n",
       " ['Thondan HD', '3181'],\n",
       " ['Lens', '579'],\n",
       " ['Yeidhavan HD', '895'],\n",
       " ['Enga Amma Rani HD', '798'],\n",
       " ['Saravanan Irukka Bayamaen HD', '4488'],\n",
       " ['Naanthan Shabana HD', '674'],\n",
       " ['Kadugu HD', '1979'],\n",
       " ['Dhilluku Dhuddu HD', '927'],\n",
       " ['Baahubali 2 HD', '11908'],\n",
       " ['Inayathalam HD', '719'],\n",
       " ['Kashmora HD', '1443'],\n",
       " ['Sivappu Enakku Pidikkum', '834'],\n",
       " ['Ayyanar Veethi HD', '453'],\n",
       " ['Shivalinga HD', '6490'],\n",
       " ['Pa Paandi HD', '5509'],\n",
       " ['Maanagaram HD', '2650'],\n",
       " ['Kadamban HD', '2893'],\n",
       " ['Kaatru Veliyidai HD', '3260'],\n",
       " ['Dangal HD', '3408'],\n",
       " ['Kaththi Sandai HD', '944'],\n",
       " ['8 Thottakkal HD', '1865'],\n",
       " ['Dhayam HD', '1318'],\n",
       " ['Kavan HD', '5556'],\n",
       " ['Dora HD', '3449'],\n",
       " ['Enkitta Mothathe HD', '1078'],\n",
       " ['Commando 2 HD', '1039'],\n",
       " ['Kaabil HD', '789'],\n",
       " ['Baahubali HD', '2432'],\n",
       " ['Paambhu Sattai HD', '5254'],\n",
       " ['Kattappava Kanom HD', '1008'],\n",
       " ['Kuttram 23 HD', '3501'],\n",
       " ['Motta Siva Ketta Siva HD', '2939'],\n",
       " ['Dharma Durai HD', '2565'],\n",
       " ['4 Peruku Nalladhuna Edhuvum Thappilla', '301'],\n",
       " ['Vaigai Express HD', '299'],\n",
       " ['Baasha HD [remastered]', '610'],\n",
       " ['Kadhal Kan Kattudhe HD', '1812'],\n",
       " ['Ghazi Attack HD', '1267'],\n",
       " ['Yaman HD', '2444'],\n",
       " ['Devaraya HD', '254'],\n",
       " ['Singam 3 – HD', '8539'],\n",
       " ['Mupparimanam HD', '1082'],\n",
       " ['Bruce Lee HD', '858'],\n",
       " ['Nisaptham HD', '516'],\n",
       " ['Muthuramalingam HD', '749'],\n",
       " ['Yaakkai HD', '889'],\n",
       " ['Beiimaan Love HD 2016', '316'],\n",
       " ['Jeans HD', '214'],\n",
       " ['Kaavalan HD', '243'],\n",
       " ['7am Arivu HD', '200'],\n",
       " ['Pattathari', '315'],\n",
       " ['Pagadi Aattam HD', '758'],\n",
       " ['Ennodu Vilayadu HD', '474'],\n",
       " ['Rum HD', '645'],\n",
       " ['Bogan HD', '4416'],\n",
       " ['Kakitha kappal HD', '288'],\n",
       " ['Adhe Kangal HD', '1521'],\n",
       " ['Ghazi Attack HD', '181'],\n",
       " ['Enakku Vaaitha Adimaigal HD', '2074'],\n",
       " ['Vettaikaaran HD', '270'],\n",
       " ['Manal Kayiru 2 HD', '1083'],\n",
       " ['Dhuruvangal Pathinaaru HD', '3340'],\n",
       " ['Parandhu Sella Vaa HD', '488'],\n",
       " ['Singam 2 HD', '732'],\n",
       " ['Mo HD', '1362'],\n",
       " ['Thulladha Manamum Thullum', '154'],\n",
       " ['Saithan HD', '3208'],\n",
       " ['Veera Sivaji HD', '2128']]"
      ]
     },
     "execution_count": 46,
     "metadata": {},
     "output_type": "execute_result"
    }
   ],
   "source": [
    "all_res"
   ]
  },
  {
   "cell_type": "code",
   "execution_count": null,
   "metadata": {},
   "outputs": [],
   "source": []
  },
  {
   "cell_type": "code",
   "execution_count": null,
   "metadata": {},
   "outputs": [],
   "source": []
  },
  {
   "cell_type": "code",
   "execution_count": null,
   "metadata": {},
   "outputs": [],
   "source": []
  },
  {
   "cell_type": "code",
   "execution_count": null,
   "metadata": {},
   "outputs": [],
   "source": []
  },
  {
   "cell_type": "code",
   "execution_count": 41,
   "metadata": {},
   "outputs": [],
   "source": []
  },
  {
   "cell_type": "code",
   "execution_count": null,
   "metadata": {},
   "outputs": [],
   "source": []
  },
  {
   "cell_type": "code",
   "execution_count": null,
   "metadata": {},
   "outputs": [],
   "source": []
  }
 ],
 "metadata": {
  "kernelspec": {
   "display_name": "Python 3",
   "language": "python",
   "name": "python3"
  },
  "language_info": {
   "codemirror_mode": {
    "name": "ipython",
    "version": 3
   },
   "file_extension": ".py",
   "mimetype": "text/x-python",
   "name": "python",
   "nbconvert_exporter": "python",
   "pygments_lexer": "ipython3",
   "version": "3.5.2"
  }
 },
 "nbformat": 4,
 "nbformat_minor": 2
}
